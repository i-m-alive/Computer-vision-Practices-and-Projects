{
 "cells": [
  {
   "cell_type": "markdown",
   "id": "a396a7ec-7119-4212-9b3b-065c1ec1ac5c",
   "metadata": {},
   "source": [
    "# Screen Recording "
   ]
  },
  {
   "cell_type": "code",
   "execution_count": 2,
   "id": "8f9757f8-944f-47e6-bb39-283c0fd8fb5e",
   "metadata": {},
   "outputs": [],
   "source": [
    "import cv2 as c\n",
    "import pyautogui as p\n",
    "import numpy as np"
   ]
  },
  {
   "cell_type": "code",
   "execution_count": 3,
   "id": "2ad6aa7a-23f6-499c-bca7-aaaa7abffd0d",
   "metadata": {},
   "outputs": [],
   "source": [
    "#to capture the screen size of the laptop or the device we use size()\n",
    "rs=p.size()"
   ]
  },
  {
   "cell_type": "code",
   "execution_count": 8,
   "id": "6942bfa2-29a5-483d-9af9-5f785fa1ce3c",
   "metadata": {},
   "outputs": [
    {
     "name": "stdin",
     "output_type": "stream",
     "text": [
      "Enter the file name and the location: C:\\Users\\bhaka\\Desktop\\shiv.mp4\n"
     ]
    }
   ],
   "source": [
    "#filename and path in which we wanted to store recording\n",
    "fn=input(\"Enter the file name and the location:\")\n",
    "\n",
    "#fix the fps of the video\n",
    "fps=25.0\n",
    "\n",
    "#setting the output video details\n",
    "fourcc = c.VideoWriter_fourcc(*'XVID')\n",
    "screen_width, screen_height = p.size()\n",
    "rs = (int(screen_width), int(screen_height))\n",
    "output = c.VideoWriter(fn, fourcc, fps, rs)\n",
    "\n",
    "#we will create a recording window using namedWindow()-It takes 2 parameters:1 name of the window, 2Window flags (optional): This parameter specifies various flags that control the type of the window. Common flags include:\n",
    "#cv2.WINDOW_NORMAL: The window can be resized.\n",
    "#cv2.WINDOW_AUTOSIZE: The window size is automatically adjusted to fit the displayed image.\n",
    "#cv2.WINDOW_FULLSCREEN: The window covers the entire screen.\n",
    "# Create a recording window\n",
    "c.namedWindow(\"Live_Recording\", c.WINDOW_NORMAL)\n",
    "\n",
    "# Resize the window\n",
    "c.resizeWindow(\"Live_Recording\", (800,600))\n",
    "\n",
    "while True:\n",
    "    img = p.screenshot()\n",
    "    #p.screenshot() is to take the screenshot of the window and save everytime in img\n",
    "    f=np.array(img)\n",
    "    #np.arrar() is used to convert img to array\n",
    "    f=c.cvtColor(f,c.COLOR_BGR2RGB)\n",
    "    #here we use cvtColor to convert BGR to RGB(python used to save image or video in bgr form not in rgb\n",
    "    output.write(f)\n",
    "    c.imshow(\"Live_Recording\",f)\n",
    "    if c.waitKey(1)==ord('q'):\n",
    "        break\n",
    "\n",
    "\n",
    "output.release()\n",
    "c.destroyAllWindows()\n",
    "    "
   ]
  },
  {
   "cell_type": "code",
   "execution_count": null,
   "id": "b9da52eb-8043-49bd-a362-e1381d89abcb",
   "metadata": {},
   "outputs": [],
   "source": []
  },
  {
   "cell_type": "code",
   "execution_count": null,
   "id": "3e4e5b18-5133-42f7-8575-684433491ae1",
   "metadata": {},
   "outputs": [],
   "source": []
  }
 ],
 "metadata": {
  "kernelspec": {
   "display_name": "Python 3 (ipykernel)",
   "language": "python",
   "name": "python3"
  },
  "language_info": {
   "codemirror_mode": {
    "name": "ipython",
    "version": 3
   },
   "file_extension": ".py",
   "mimetype": "text/x-python",
   "name": "python",
   "nbconvert_exporter": "python",
   "pygments_lexer": "ipython3",
   "version": "3.11.7"
  }
 },
 "nbformat": 4,
 "nbformat_minor": 5
}
