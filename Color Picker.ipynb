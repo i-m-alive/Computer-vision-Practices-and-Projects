{
 "cells": [
  {
   "cell_type": "code",
   "execution_count": 1,
   "id": "be8bb56f-b799-4353-ad24-634081bccdee",
   "metadata": {},
   "outputs": [],
   "source": [
    "import cv2\n",
    "import numpy as np\n",
    "def cross(x): \n",
    "    pass\n"
   ]
  },
  {
   "cell_type": "code",
   "execution_count": null,
   "id": "ec89372d-dcc8-4d06-88fb-82b873f80db2",
   "metadata": {},
   "outputs": [],
   "source": [
    "#blank image\n",
    "img=np.zeros((300,521,3),np.uint8)\n",
    "cv2.namedWindow(\"Color Picker\")\n",
    "\n",
    "#creating a switch using trackbar() to *on* or *off* the colour picker\n",
    "s=\"0:OFF\\n1:ON\"\n",
    "cv2.createTrackbar(s,\"Color Picker\",0,1,cross)\n",
    "\n",
    "#creating TrackBars For Adjusting Colors\n",
    "cv2.createTrackbar(\"R\",\"Color Picker\",0,255,cross)\n",
    "cv2.createTrackbar(\"G\",\"Color Picker\",0,255,cross)\n",
    "cv2.createTrackbar(\"B\",\"Color Picker\",0,255,cross)\n",
    "\n",
    "#if there will no event performing then cross() or any other function will execute \n",
    "\n",
    "while True:\n",
    "    cv2.imshow(\"Color Picker\",img)\n",
    "    if cv2.waitKey(1) & 0xFF ==27:\n",
    "        break\n",
    "    # to get the trackbar position we can use cv2.getTrackbarPos()\n",
    "    s1=cv2.getTrackbarPos(s,\"Color Picker\")\n",
    "    r=cv2.getTrackbarPos(\"R\",\"Color Picker\")\n",
    "    g=cv2.getTrackbarPos(\"G\",\"Color Picker\")\n",
    "    b=cv2.getTrackbarPos(\"B\",\"Color Picker\")\n",
    "    \n",
    "    \n",
    "    if s1==0:\n",
    "        img[:]=0\n",
    "    else:\n",
    "        img[:]=[b,g,r]\n",
    "\n",
    "cv2.destroyAllWindows()"
   ]
  },
  {
   "cell_type": "code",
   "execution_count": null,
   "id": "2f077825-b8f3-4dd5-b270-2f3b8f98ae7a",
   "metadata": {},
   "outputs": [],
   "source": []
  }
 ],
 "metadata": {
  "kernelspec": {
   "display_name": "Python 3 (ipykernel)",
   "language": "python",
   "name": "python3"
  },
  "language_info": {
   "codemirror_mode": {
    "name": "ipython",
    "version": 3
   },
   "file_extension": ".py",
   "mimetype": "text/x-python",
   "name": "python",
   "nbconvert_exporter": "python",
   "pygments_lexer": "ipython3",
   "version": "3.11.7"
  }
 },
 "nbformat": 4,
 "nbformat_minor": 5
}
