{
 "cells": [
  {
   "cell_type": "code",
   "execution_count": 2,
   "id": "be8bb56f-b799-4353-ad24-634081bccdee",
   "metadata": {},
   "outputs": [],
   "source": [
    "import cv2\n",
    "import numpy as np\n",
    "def cross(x): \n",
    "    pass\n"
   ]
  },
  {
   "cell_type": "code",
   "execution_count": 3,
   "id": "ec89372d-dcc8-4d06-88fb-82b873f80db2",
   "metadata": {},
   "outputs": [
    {
     "name": "stdin",
     "output_type": "stream",
     "text": [
      "Enter the path of the image D:\\Babe\\IMG_20231024_190545.jpg\n"
     ]
    },
    {
     "name": "stdout",
     "output_type": "stream",
     "text": [
      "Shape of the given image is (700, 500, 3)\n",
      "Size of the image is : 1050000\n",
      "Type of the image: <class 'numpy.ndarray'>\n"
     ]
    }
   ],
   "source": [
    "#Read an image---\n",
    "path=input(\"Enter the path of the image\")\n",
    "img=cv2.imread(path)\n",
    "img = cv2.resize(img,(500,700))\n",
    "\n",
    "#to print the shape of the image we have shape\n",
    "print(\"Shape of the given image is\",img.shape)\n",
    "#to print the size of the image we have size fucntion\n",
    "print(\"Size of the image is :\",img.size)\n",
    "#or say no. of pixels\n",
    "\n",
    "# to check the data type of the image we have type()\n",
    "## type() function take 1 paramerter that is img\n",
    "print(\"Type of the image:\",type(img))\n"
   ]
  },
  {
   "cell_type": "code",
   "execution_count": 5,
   "id": "2f077825-b8f3-4dd5-b270-2f3b8f98ae7a",
   "metadata": {},
   "outputs": [],
   "source": [
    "cv2.namedWindow(\"BGR color\")\n",
    "img2 = np.zeros((300, 521, 3), np.uint8) \n",
    "cv2.createTrackbar(\"R\", \"BGR color\", 0, 255, cross)\n",
    "cv2.createTrackbar(\"G\", \"BGR color\", 0, 255, cross)\n",
    "cv2.createTrackbar(\"B\", \"BGR color\", 0, 255, cross)\n",
    "def mouse_click(event, x, y, flags, param):\n",
    "    if event == cv2.EVENT_MOUSEMOVE: \n",
    "        b = img[y, x, 0]  # blue channel\n",
    "        g = img[y, x, 1]  # green channel\n",
    "        r = img[y, x, 2]  # red channel\n",
    "        img2[:] = [b, g, r]\n",
    "        cv2.setTrackbarPos(\"R\", \"BGR color\", r)\n",
    "        cv2.setTrackbarPos(\"G\", \"BGR color\", g)\n",
    "        cv2.setTrackbarPos(\"B\", \"BGR color\", b)\n",
    "        cv2.imshow(\"BGR color\", img2)\n",
    "        cv2.waitKey(0)\n",
    "       \n",
    "cv2.namedWindow(winname=\"original img\")\n",
    "cv2.setMouseCallback(\"original img\", mouse_click)\n",
    "while True:\n",
    "    cv2.imshow(\"original img\", img)\n",
    "    if cv2.waitKey(1) & 0xFF==27: #27 means escape key \n",
    "        break\n",
    "cv2.destroyAllWindows()  # Corrected typo here\n"
   ]
  },
  {
   "cell_type": "code",
   "execution_count": null,
   "id": "da1d3489-8a71-4bd0-b4d9-bd79f8389d7b",
   "metadata": {},
   "outputs": [],
   "source": []
  }
 ],
 "metadata": {
  "kernelspec": {
   "display_name": "Python 3 (ipykernel)",
   "language": "python",
   "name": "python3"
  },
  "language_info": {
   "codemirror_mode": {
    "name": "ipython",
    "version": 3
   },
   "file_extension": ".py",
   "mimetype": "text/x-python",
   "name": "python",
   "nbconvert_exporter": "python",
   "pygments_lexer": "ipython3",
   "version": "3.11.7"
  }
 },
 "nbformat": 4,
 "nbformat_minor": 5
}
