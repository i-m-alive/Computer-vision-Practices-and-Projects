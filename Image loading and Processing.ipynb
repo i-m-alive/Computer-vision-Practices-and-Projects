{
 "cells": [
  {
   "cell_type": "code",
   "execution_count": 1,
   "id": "4b3d5488-8fa5-4847-bb8f-8633b6afa87c",
   "metadata": {},
   "outputs": [
    {
     "name": "stdout",
     "output_type": "stream",
     "text": [
      "[[[ 74 107 157]\n",
      "  [ 73 106 156]\n",
      "  [ 70 105 155]\n",
      "  ...\n",
      "  [250 253 255]\n",
      "  [250 253 255]\n",
      "  [250 253 255]]\n",
      "\n",
      " [[ 74 107 157]\n",
      "  [ 73 106 156]\n",
      "  [ 71 106 156]\n",
      "  ...\n",
      "  [250 253 255]\n",
      "  [250 253 255]\n",
      "  [250 253 255]]\n",
      "\n",
      " [[ 72 107 157]\n",
      "  [ 72 107 157]\n",
      "  [ 72 107 157]\n",
      "  ...\n",
      "  [250 253 255]\n",
      "  [250 253 255]\n",
      "  [250 253 255]]\n",
      "\n",
      " ...\n",
      "\n",
      " [[  0   6  16]\n",
      "  [  0   6  16]\n",
      "  [  0   5  15]\n",
      "  ...\n",
      "  [ 79 124 175]\n",
      "  [ 78 123 174]\n",
      "  [ 79 124 175]]\n",
      "\n",
      " [[  0   5  15]\n",
      "  [  0   5  15]\n",
      "  [  0   5  15]\n",
      "  ...\n",
      "  [ 80 125 176]\n",
      "  [ 78 123 174]\n",
      "  [ 78 123 174]]\n",
      "\n",
      " [[  0   5  15]\n",
      "  [  0   6  16]\n",
      "  [  0   6  16]\n",
      "  ...\n",
      "  [ 77 122 173]\n",
      "  [ 75 120 171]\n",
      "  [ 74 119 170]]]\n"
     ]
    }
   ],
   "source": [
    "import cv2\n",
    "\n",
    "# Load the image\n",
    "img = cv2.imread(r\"D:\\Babe\\IMG_20231024_190545.jpg\")\n",
    "#imread() is used to take load a image\n",
    "#imread() takes 2 arguments 1. image path, 2.0,1,-1(0-> grey scale,1-RGB,-1-->unchanged)\n",
    "# Print the image array\n",
    "print(img)\n",
    "#cv comes with mandatory numpy library so when we try to print the image above it print the array value of the img#imread() is used to take load a image\n",
    "#imread() takes 2 arguments 1. image path, 2.0,1,-1(0-> grey scale,1-RGB,-1-->)\n",
    "# Display the original image\n",
    "cv2.imshow(\"original\", img)\n",
    "#cv comes with mandatory numpy library so when we try to print the image above it print the array value of the img\n",
    "#to see the image we use ## imshow() its also takes 2 parameters : 1. Window name 2.image\n",
    "\n",
    "# Wait for any key press\n",
    "cv2.waitKey(0)\n",
    "\n",
    "# Close all OpenCV windows\n",
    "cv2.destroyAllWindows()\n"
   ]
  },
  {
   "cell_type": "markdown",
   "id": "5d917cc2-ffed-4302-ad52-883da9ba0b56",
   "metadata": {},
   "source": [
    "## use of resize()\n",
    "it takes two parameter as u can see 1.width, 2.heigh"
   ]
  },
  {
   "cell_type": "code",
   "execution_count": 6,
   "id": "7d0b774f-5587-4c69-9b51-faeb6bce50ad",
   "metadata": {},
   "outputs": [],
   "source": [
    "img1 = cv2.resize(img,(500,750))#width ,height\n",
    "cv2.imshow(\"Resized image\",img1)\n",
    "cv2.waitKey(0)\n",
    "cv2.destroyAllWindows()"
   ]
  },
  {
   "cell_type": "markdown",
   "id": "19e5dfcb-22c4-4323-b3a7-0d5786dcb9f0",
   "metadata": {},
   "source": [
    "## use of flip()\n",
    "its takes 2 parameter \n",
    "1. image\n",
    "2. 0,1,-1\n",
    "    1. img2=cv2.flip(img1,0) #  Vertically flip\n",
    "    2. img3=cv2.flip(img1,1) # normal\n",
    "    3. img4=cv2.flip(img1,-1) # horizontally flip\n",
    "\n",
    "   "
   ]
  },
  {
   "cell_type": "code",
   "execution_count": 13,
   "id": "a61aa69f-9e04-4654-adfa-2ec337a01997",
   "metadata": {},
   "outputs": [],
   "source": [
    "img2=cv2.flip(img1,0) #  Vertically flip\n",
    "cv2.imshow(\"Vertically flip\",img2)\n",
    "cv2.waitKey(0)\n",
    "cv2.destroyAllWindows()"
   ]
  },
  {
   "cell_type": "code",
   "execution_count": 10,
   "id": "a8da49ce-fcdc-45dc-8e14-94d761766dab",
   "metadata": {},
   "outputs": [],
   "source": [
    "img3=cv2.flip(img1,1) # normal\n",
    "cv2.imshow(\"normal image\",img3)\n",
    "cv2.waitKey(0)\n",
    "cv2.destroyAllWindows()"
   ]
  },
  {
   "cell_type": "code",
   "execution_count": 14,
   "id": "2445577b-100a-4e18-b61b-a974ed21f205",
   "metadata": {},
   "outputs": [],
   "source": [
    "img4=cv2.flip(img1,-1) # horizontally flip\n",
    "cv2.imshow(\"horizontally flip image\",img4)\n",
    "cv2.waitKey(0)\n",
    "cv2.destroyAllWindows()"
   ]
  },
  {
   "cell_type": "markdown",
   "id": "1ca7db7a-4e8d-4acb-a433-edc4ae3921b6",
   "metadata": {},
   "source": [
    "For Grey Scale image"
   ]
  },
  {
   "cell_type": "code",
   "execution_count": 16,
   "id": "d389ea32-93c0-415f-9cf4-59acbcddaf20",
   "metadata": {},
   "outputs": [],
   "source": [
    "img = cv2.imread(r\"D:\\Babe\\IMG_20231024_190545.jpg\",0)\n",
    "img1 = cv2.resize(img,(500,800))\n",
    "cv2.imshow(\"grey\", img1)\n",
    "cv2.waitKey(0)\n",
    "cv2.destroyAllWindows()"
   ]
  },
  {
   "cell_type": "markdown",
   "id": "dd463bc0-23bc-4b4b-a324-92d61e8fb04b",
   "metadata": {},
   "source": [
    "For BGR channel image"
   ]
  },
  {
   "cell_type": "code",
   "execution_count": 17,
   "id": "70a75abe-839a-4087-80a9-18dda2eb634f",
   "metadata": {},
   "outputs": [],
   "source": [
    "img = cv2.imread(r\"D:\\Babe\\IMG_20231024_190545.jpg\",1)\n",
    "img1 = cv2.resize(img,(500,800))\n",
    "cv2.imshow(\"BGR\", img1)\n",
    "cv2.waitKey(0)\n",
    "cv2.destroyAllWindows()"
   ]
  },
  {
   "cell_type": "markdown",
   "id": "24c37f90-5503-4346-986a-983ac8943463",
   "metadata": {},
   "source": [
    "For Unchanged channel - it gives more clear or we can say deatiled or enhanced image then original one"
   ]
  },
  {
   "cell_type": "code",
   "execution_count": 19,
   "id": "8a412838-053c-4d7e-86a0-ceee9e6ee33f",
   "metadata": {},
   "outputs": [],
   "source": [
    "img = cv2.imread(r\"D:\\Babe\\IMG_20231024_190545.jpg\",-1)\n",
    "img1 = cv2.resize(img,(500,800))\n",
    "cv2.imshow(\"Unchanged\", img1)\n",
    "cv2.waitKey(0)\n",
    "cv2.destroyAllWindows()"
   ]
  },
  {
   "cell_type": "code",
   "execution_count": null,
   "id": "af2d381f-16e8-4158-8e8b-ce4871d44e9f",
   "metadata": {},
   "outputs": [],
   "source": []
  }
 ],
 "metadata": {
  "kernelspec": {
   "display_name": "Python 3 (ipykernel)",
   "language": "python",
   "name": "python3"
  },
  "language_info": {
   "codemirror_mode": {
    "name": "ipython",
    "version": 3
   },
   "file_extension": ".py",
   "mimetype": "text/x-python",
   "name": "python",
   "nbconvert_exporter": "python",
   "pygments_lexer": "ipython3",
   "version": "3.11.7"
  }
 },
 "nbformat": 4,
 "nbformat_minor": 5
}
