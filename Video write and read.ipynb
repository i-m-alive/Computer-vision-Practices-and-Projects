{
 "cells": [
  {
   "cell_type": "code",
   "execution_count": 1,
   "id": "a9ef6c63-8d23-40fb-b9b4-ea6ab62fabd4",
   "metadata": {},
   "outputs": [],
   "source": [
    "import cv2"
   ]
  },
  {
   "cell_type": "markdown",
   "id": "d5b33008-a82f-4448-9dd8-1cb0917fed25",
   "metadata": {},
   "source": [
    "## Load video\n",
    "to load a video we use VideoCapture()"
   ]
  },
  {
   "cell_type": "code",
   "execution_count": 2,
   "id": "16de6ae2-c8be-430e-8901-ec91deabdef6",
   "metadata": {},
   "outputs": [
    {
     "name": "stdout",
     "output_type": "stream",
     "text": [
      "< cv2.VideoCapture 00000280797FF090>\n"
     ]
    }
   ],
   "source": [
    "cap = cv2.VideoCapture(\"D:\\RVideo edit\\R1\\Exp1.mp4\")\n",
    "#here we assigned the video path to a object name 'cap'\n",
    "print(cap)"
   ]
  },
  {
   "cell_type": "markdown",
   "id": "882d27f3-1e9a-47cd-937c-da84ef86c3fd",
   "metadata": {},
   "source": [
    "1. **while True:** to play the video we will take a infinite loop\n",
    "as we know that a video is nothing but a collection of images or say frame that used to change so fast which makes us feel like a moving object or a video\n",
    "2. **ret, frame=cap.read()** used to return two values 1. boolean 2. image\n",
    "boolean is saved at **ret** and image is saved at **frame**\n",
    "3. **cv2.imshow(\"frame\",frame)** similar to the image\n",
    "4. **frame=cv2.resize(frame,(700,450))** to resize the frame\n",
    "5. **cv2.waitKey(25)** number inside the function use to tell the time in layman's terms, more the value inside the bracket slower will be the video**cv2.destroyAllWindows()** \n",
    "6. **k=cv2.waitKey(25)\n",
    "    if k==ord('q'):\n",
    "        break** when Q is pressed\n",
    "7. **cvtColor(frame,cv2.COLOR_BGR2GRAY)**\n",
    "8. **cap.release** to release the object that have the img path created "
   ]
  },
  {
   "cell_type": "code",
   "execution_count": 3,
   "id": "0c9e928c-d0a4-456d-be0e-324c176fdb9a",
   "metadata": {},
   "outputs": [],
   "source": [
    "while True:\n",
    "    ret, frame=cap.read() \n",
    "    frame=cv2.resize(frame,(700,450))\n",
    "    grey=cv2.cvtColor(frame,cv2.COLOR_BGR2GRAY)\n",
    "    cv2.imshow(\"frame\",frame)\n",
    "    cv2.imshow(\"grey\",grey)\n",
    "    k=cv2.waitKey(25)\n",
    "    if k==ord('q') & 0xFF:\n",
    "        break\n",
    "        \n",
    "cap.release()\n",
    "cv2.destroyAllWindows()"
   ]
  },
  {
   "cell_type": "markdown",
   "id": "a2fa4800-3904-4c57-bf40-18344b071c7a",
   "metadata": {},
   "source": [
    "for takeing video from web came\n",
    "we need to put **cap=cv2.VideoCapture(0)**\n",
    "and we also need to check that the camera is open on not before came"
   ]
  },
  {
   "cell_type": "code",
   "execution_count": 4,
   "id": "7ea6ab25-ec33-49bb-ab95-02aee8c27df2",
   "metadata": {},
   "outputs": [
    {
     "name": "stdout",
     "output_type": "stream",
     "text": [
      "check=== True\n",
      "< cv2.VideoCapture 000002807A201E30>\n"
     ]
    }
   ],
   "source": [
    "#Now capture video form webcam and save into memory\n",
    "cap=cv2.VideoCapture(0)\n",
    "print(\"check===\",cap.isOpened())\n",
    "print(cap)"
   ]
  },
  {
   "cell_type": "code",
   "execution_count": 10,
   "id": "d4be6dd1-1361-473a-a656-97867767f292",
   "metadata": {},
   "outputs": [],
   "source": [
    "#it is 4 byte code which is use to specify the video codec\n",
    "#Various codec -- \n",
    "#DIVX, XVID, MJPG, X264, WMV1, WMV2\n",
    "fourcc = cv2.VideoWriter_fourcc(*\"XVID\")  # *\"XVID\"\n",
    "#It contain 4 parameter , name, codec,fps,resolution\n",
    "output = cv2.VideoWriter(\"c:\\\\output.avi\",fourcc,20.0,(640,480),0)"
   ]
  },
  {
   "cell_type": "code",
   "execution_count": 13,
   "id": "275a3bd4-d06e-49a9-844a-76113ac8f8aa",
   "metadata": {},
   "outputs": [],
   "source": [
    "while(cap.isOpened()):\n",
    "    ret, frame = cap.read()   #here read the frame\n",
    "    \n",
    "    if ret==True:\n",
    "        \n",
    "        gray  = cv2.cvtColor(frame,cv2.COLOR_BGR2GRAY)\n",
    "        #here flip is used to lip the video at recording time\n",
    "        #frame = cv2.flip(frame,0)\n",
    "        output.write(gray)\n",
    "        \n",
    "        cv2.imshow(\"Gray Frame\",gray)\n",
    "        cv2.imshow('Colorframe',frame)\n",
    "        if cv2.waitKey(1) & 0xFF == ord('q'):   #press to exit\n",
    "            break\n",
    "    else:\n",
    "        break"
   ]
  },
  {
   "cell_type": "code",
   "execution_count": 14,
   "id": "c0cb3c53-3d14-469a-a6c2-60af1205c87a",
   "metadata": {},
   "outputs": [],
   "source": [
    "# Release everything if job is finished\n",
    "cap.release()\n",
    "output.release()\n",
    "cv2.destroyAllWindows()"
   ]
  },
  {
   "cell_type": "code",
   "execution_count": null,
   "id": "0de4959a-847a-4ca6-a33a-db68f30da39d",
   "metadata": {},
   "outputs": [],
   "source": []
  }
 ],
 "metadata": {
  "kernelspec": {
   "display_name": "Python 3 (ipykernel)",
   "language": "python",
   "name": "python3"
  },
  "language_info": {
   "codemirror_mode": {
    "name": "ipython",
    "version": 3
   },
   "file_extension": ".py",
   "mimetype": "text/x-python",
   "name": "python",
   "nbconvert_exporter": "python",
   "pygments_lexer": "ipython3",
   "version": "3.11.7"
  }
 },
 "nbformat": 4,
 "nbformat_minor": 5
}
