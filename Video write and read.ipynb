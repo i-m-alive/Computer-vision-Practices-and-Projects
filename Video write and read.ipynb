{
 "cells": [
  {
   "cell_type": "code",
   "execution_count": 1,
   "id": "a9ef6c63-8d23-40fb-b9b4-ea6ab62fabd4",
   "metadata": {},
   "outputs": [],
   "source": [
    "import cv2"
   ]
  },
  {
   "cell_type": "markdown",
   "id": "d5b33008-a82f-4448-9dd8-1cb0917fed25",
   "metadata": {},
   "source": [
    "## Load video\n",
    "to load a video we use VideoCapture()"
   ]
  },
  {
   "cell_type": "code",
   "execution_count": 2,
   "id": "16de6ae2-c8be-430e-8901-ec91deabdef6",
   "metadata": {},
   "outputs": [
    {
     "name": "stdout",
     "output_type": "stream",
     "text": [
      "< cv2.VideoCapture 000002708C63F510>\n"
     ]
    }
   ],
   "source": [
    "cap = cv2.VideoCapture(\"D:\\RVideo edit\\R1\\Exp1.mp4\")\n",
    "#here we assigned the video path to a object name 'cap'\n",
    "print(cap)"
   ]
  },
  {
   "cell_type": "markdown",
   "id": "882d27f3-1e9a-47cd-937c-da84ef86c3fd",
   "metadata": {},
   "source": [
    "1. **while True:** to play the video we will take a infinite loop\n",
    "as we know that a video is nothing but a collection of images or say frame that used to change so fast which makes us feel like a moving object or a video\n",
    "2. **ret, frame=cap.read()** used to return two values 1. boolean 2. image\n",
    "boolean is saved at **ret** and image is saved at **frame**\n",
    "3. **cv2.imshow(\"frame\",frame)** similar to the image\n",
    "4. **frame=cv2.resize(frame,(700,450))** to resize the frame\n",
    "5. **cv2.waitKey(25)** number inside the function use to tell the time in layman's terms, more the value inside the bracket slower will be the video**cv2.destroyAllWindows()** \n",
    "6. **k=cv2.waitKey(25)\n",
    "    if k==ord('q'):\n",
    "        break** when Q is pressed\n",
    "7. **cvtColor(frame,cv2.COLOR_BGR2GRAY)**\n",
    "8. **cap.release** to release the object that have the img path created "
   ]
  },
  {
   "cell_type": "code",
   "execution_count": 3,
   "id": "0c9e928c-d0a4-456d-be0e-324c176fdb9a",
   "metadata": {},
   "outputs": [],
   "source": [
    "while True:\n",
    "    ret, frame=cap.read() \n",
    "    frame=cv2.resize(frame,(700,450))\n",
    "    grey=cv2.cvtColor(frame,cv2.COLOR_BGR2GRAY)\n",
    "    cv2.imshow(\"frame\",frame)\n",
    "    cv2.imshow(\"grey\",grey)\n",
    "    k=cv2.waitKey(25)\n",
    "    if k==ord('q') & 0xFF:\n",
    "        break\n",
    "        \n",
    "cap.release()\n",
    "cv2.destroyAllWindows()"
   ]
  },
  {
   "cell_type": "markdown",
   "id": "a2fa4800-3904-4c57-bf40-18344b071c7a",
   "metadata": {},
   "source": [
    "for takeing video from web came\n",
    "we need to put **cap=cv2.VideoCapture(0)**\n",
    "and we also need to check that the camera is open on not before came"
   ]
  },
  {
   "cell_type": "code",
   "execution_count": 4,
   "id": "7ea6ab25-ec33-49bb-ab95-02aee8c27df2",
   "metadata": {},
   "outputs": [],
   "source": [
    "# Capture video from webcam\n",
    "cap = cv2.VideoCapture(0)\n",
    "\n",
    "while cap.isOpened():\n",
    "    ret, frame = cap.read()\n",
    "    if ret:\n",
    "        cv2.imshow(\"capture video\", frame)\n",
    "        if cv2.waitKey(1) & 0xFF == ord('q'):\n",
    "            break\n",
    "\n",
    "cap.release()\n",
    "cv2.destroyAllWindows()"
   ]
  },
  {
   "cell_type": "code",
   "execution_count": 5,
   "id": "66160272-8a57-43db-af42-619673f69a2e",
   "metadata": {},
   "outputs": [],
   "source": [
    "# Capture video from webcam in grey scale and fliped one\n",
    "cap = cv2.VideoCapture(0)\n",
    "\n",
    "while cap.isOpened():\n",
    "    ret, frame = cap.read()\n",
    "    if ret:\n",
    "        frame=cv2.flip(frame,1)\n",
    "        grey=cv2.cvtColor(frame,cv2.COLOR_BGR2GRAY)\n",
    "        cv2.imshow(\"capture video\", grey)\n",
    "        if cv2.waitKey(1) & 0xFF == ord('q'):\n",
    "            break\n",
    "\n",
    "cap.release()\n",
    "cv2.destroyAllWindows()"
   ]
  },
  {
   "cell_type": "code",
   "execution_count": 3,
   "id": "d4be6dd1-1361-473a-a656-97867767f292",
   "metadata": {},
   "outputs": [],
   "source": [
    "#it is 4 byte code which is use to specify the video codec\n",
    "#Various codec -- \n",
    "#DIVX, XVID, MJPG, X264, WMV1, WMV2\n",
    "fourcc = cv2.VideoWriter_fourcc(*\"XVID\")  # *\"XVID\"\n",
    "#It contain 4 parameter , name, codec,fps,resolution\n",
    "output = cv2.VideoWriter(\"D:\\\\output.avi\",fourcc,20.0,(640,480),0)"
   ]
  },
  {
   "cell_type": "markdown",
   "id": "c758ea79-3078-4a16-8b40-9602bda75379",
   "metadata": {},
   "source": [
    "1. **cv2.VideoWriter_fourcc(*\"XVID\")**:\n",
    "   1. This function creates a four-character code (4CC) used to specify the video codec.\n",
    "   2. It takes a string parameter representing the codec name. In this case, **\"XVID\"** represents the Xvid codec\n",
    "   3. The * before **\"XVID\"** is used to unpack the string into individual characters.\n",
    "2. **cv2.VideoWriter(\"c:\\output.avi\", fourcc, 20.0, (640, 480), 0)**:\n",
    "   1. This function initializes a VideoWriter object to write video frames to a file.\n",
    "   2. It takes several parameters:\n",
    "      1. **\"c:\\\\output.avi\"**: This is the path of the output file where the video will be saved. In this case, it will be saved as output.avi in the C:\\ directory.\n",
    "      2. **fourcc**: This is the four-character code representing the video codec. It specifies the codec to be used for encoding the video.\n",
    "      3. **20.0**: This parameter specifies the frames per second (fps) of the output video. In this case, it's set to 20.0 fps.\n",
    "      4. **(640, 480)**: This is a tuple specifying the width and height of the video frame. In this case, the frame size is set to 640x480 pixels.\n",
    "      5. **0**: This parameter specifies whether the video is grayscale (0) or color (1). Here, 0 indicates grayscale, meaning the output video will be in grayscale."
   ]
  },
  {
   "cell_type": "code",
   "execution_count": 4,
   "id": "275a3bd4-d06e-49a9-844a-76113ac8f8aa",
   "metadata": {},
   "outputs": [],
   "source": [
    "cap = cv2.VideoCapture(0)\n",
    "while(cap.isOpened()):\n",
    "    ret, frame = cap.read()   #here read the frame\n",
    "    \n",
    "    if ret==True:\n",
    "        \n",
    "        gray  = cv2.cvtColor(frame,cv2.COLOR_BGR2GRAY)\n",
    "        #here flip is used to lip the video at recording time\n",
    "        #frame = cv2.flip(frame,0)\n",
    "        output.write(gray)\n",
    "        \n",
    "        cv2.imshow(\"Gray Frame\",gray)\n",
    "        if cv2.waitKey(25) & 0xFF == ord('q'):   #press to exit\n",
    "            break\n",
    "    else:\n",
    "        break\n",
    "# Release everything if job is finished\n",
    "cap.release()\n",
    "output.release()\n",
    "cv2.destroyAllWindows()"
   ]
  },
  {
   "cell_type": "code",
   "execution_count": 14,
   "id": "c0cb3c53-3d14-469a-a6c2-60af1205c87a",
   "metadata": {},
   "outputs": [],
   "source": []
  },
  {
   "cell_type": "code",
   "execution_count": null,
   "id": "0de4959a-847a-4ca6-a33a-db68f30da39d",
   "metadata": {},
   "outputs": [],
   "source": []
  }
 ],
 "metadata": {
  "kernelspec": {
   "display_name": "Python 3 (ipykernel)",
   "language": "python",
   "name": "python3"
  },
  "language_info": {
   "codemirror_mode": {
    "name": "ipython",
    "version": 3
   },
   "file_extension": ".py",
   "mimetype": "text/x-python",
   "name": "python",
   "nbconvert_exporter": "python",
   "pygments_lexer": "ipython3",
   "version": "3.11.7"
  }
 },
 "nbformat": 4,
 "nbformat_minor": 5
}
