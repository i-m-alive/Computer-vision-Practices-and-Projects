{
 "cells": [
  {
   "cell_type": "code",
   "execution_count": 1,
   "id": "0cab567c-553c-4d6c-b2d1-f26136039c10",
   "metadata": {},
   "outputs": [],
   "source": [
    "import cv2\n",
    "import numpy as np"
   ]
  },
  {
   "cell_type": "code",
   "execution_count": 4,
   "id": "622d29b6-b0dd-4771-8213-16fdc7842c4e",
   "metadata": {},
   "outputs": [
    {
     "name": "stdin",
     "output_type": "stream",
     "text": [
      "Enter the path (without quotation) of the img where u want to perfom the actions  D:\\Babe\\Snapchat-615149321.jpg\n"
     ]
    },
    {
     "name": "stdout",
     "output_type": "stream",
     "text": [
      "List of the task u can perform using mouse action\n",
      "\n",
      "1. Right double click : to get the cordinate\n",
      "2. Left double click : to get the BGR value\n",
      "3. Left click and Drag : to draw smooth curve line on the image\n"
     ]
    }
   ],
   "source": [
    "# Declare dragging and previous position as global variables\n",
    "dragging = False\n",
    "prev_pos = None\n",
    "scale_factor = 1.0  # Initial scale factor\n",
    "max_scale = 4.0  # Maximum scale factor\n",
    "min_scale = 0.25  # Minimum scale factor\n",
    "def cross(x):\n",
    "    pass\n",
    "font = cv2.FONT_HERSHEY_COMPLEX_SMALL\n",
    "#prev_pos: This variable stores the previous position of the mouse pointer. It is used to keep track of the starting point of the line segment to draw a smooth, continuous curve line.\n",
    "def mouse_click(event, x, y, flags, param):\n",
    "    global dragging, prev_pos,scale_factor\n",
    "    ###  Draw a curve line\n",
    "    if event == cv2.EVENT_LBUTTONDOWN:\n",
    "        dragging = True\n",
    "        prev_pos = (x, y)\n",
    "        \n",
    "    elif event == cv2.EVENT_MOUSEMOVE and dragging:\n",
    "        if prev_pos is not None:\n",
    "            z=cv2.getTrackbarPos(s,\"res\")\n",
    "            if z > 0:\n",
    "                cv2.line(img, prev_pos, (x, y), (152, 255, 130), z)\n",
    "            prev_pos = (x, y)#The current mouse position (x, y) is stored as prev_pos.\n",
    "            #When the mouse moves (cv2.EVENT_MOUSEMOVE) and dragging is True, a line segment is drawn between the previous position (prev_pos) and the current mouse position (x, y). This results in a smooth, continuous curve line as the mouse moves.\n",
    "    elif event == cv2.EVENT_LBUTTONUP:\n",
    "        dragging = False\n",
    "        prev_pos = None        \n",
    "    elif event==cv2.EVENT_RBUTTONDBLCLK:\n",
    "        pt='. ('+str(x)+','+str(y)+')'\n",
    "        cv2.putText(img, pt, (x,y), font, 1, (50, 237, 233), 2)\n",
    "    elif event==cv2.EVENT_LBUTTONDBLCLK:\n",
    "        b = img[y, x, 0]  # blue channel\n",
    "        g = img[y, x, 1]  # green channel\n",
    "        r = img[y, x, 2]  # red channel\n",
    "        color_bgr = \"BGR(\" + str(b) + \",\" + str(g) + \",\" + str(r) + \")\"\n",
    "        cv2.putText(img, color_bgr, (x,y), font, 1, (245, 237, 233), 2)\n",
    "\n",
    "\n",
    "cv2.namedWindow(winname=\"res\")\n",
    "path=input(\"Enter the path (without quotation) of the img where u want to perfom the actions \")\n",
    "print(\"List of the task u can perform using mouse action\\n\")\n",
    "print(\"1. Right double click : to get the cordinate\\n2. Left double click : to get the BGR value\\n3. Left click and Drag : to draw smooth curve line on the image\")\n",
    "o_img = cv2.imread(path, 1)\n",
    "img=cv2.resize(o_img,(400,700))\n",
    "cv2.setMouseCallback(\"res\", mouse_click)\n",
    "s=\"Size of the line\"\n",
    "cv2.createTrackbar(s,\"res\",1,15,cross)\n",
    "\n",
    "while True:\n",
    "    cv2.imshow(\"res\", img)\n",
    "    if cv2.waitKey(1) & 0xFF == 27: # 27 means escape key\n",
    "        break\n",
    "\n",
    "\n",
    "cv2.destroyAllWindows()"
   ]
  },
  {
   "cell_type": "code",
   "execution_count": null,
   "id": "5a461915-0d6c-47a7-8feb-b374bd5158ed",
   "metadata": {},
   "outputs": [],
   "source": []
  },
  {
   "cell_type": "code",
   "execution_count": null,
   "id": "2148b712-2232-448c-a864-13d652fef484",
   "metadata": {},
   "outputs": [],
   "source": []
  }
 ],
 "metadata": {
  "kernelspec": {
   "display_name": "Python 3 (ipykernel)",
   "language": "python",
   "name": "python3"
  },
  "language_info": {
   "codemirror_mode": {
    "name": "ipython",
    "version": 3
   },
   "file_extension": ".py",
   "mimetype": "text/x-python",
   "name": "python",
   "nbconvert_exporter": "python",
   "pygments_lexer": "ipython3",
   "version": "3.11.7"
  }
 },
 "nbformat": 4,
 "nbformat_minor": 5
}
