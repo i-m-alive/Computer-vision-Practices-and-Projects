{
 "cells": [
  {
   "cell_type": "code",
   "execution_count": 20,
   "id": "0a72fd89-4e47-4f7a-9f71-60dbb7278bba",
   "metadata": {},
   "outputs": [],
   "source": [
    "import cv2\n",
    "import datetime\n"
   ]
  },
  {
   "cell_type": "code",
   "execution_count": 21,
   "id": "1ca7f254-6196-48e8-9508-8e7ef82361f2",
   "metadata": {},
   "outputs": [],
   "source": [
    "cap=cv2.VideoCapture(\"D:\\RVideo edit\\R1\\My Video.mp4\")\n"
   ]
  },
  {
   "cell_type": "code",
   "execution_count": 22,
   "id": "dfb5a4c9-ef84-4b8c-81c7-0b38def751ae",
   "metadata": {},
   "outputs": [
    {
     "name": "stdout",
     "output_type": "stream",
     "text": [
      "width== 1920.0\n",
      "height== 1080.0\n"
     ]
    }
   ],
   "source": [
    "#To get the weight and height of the video we use cv2.CAP_PROP_FRAME_WIDTH and cv2.CAP_PROP_FRAME_HEIGHT\n",
    "x=cap.get(cv2.CAP_PROP_FRAME_WIDTH)\n",
    "y=cap.get(cv2.CAP_PROP_FRAME_HEIGHT)\n",
    "print(\"width==\",x)\n",
    "print(\"height==\",y)\n",
    "\n",
    "## or we can use cap.get(3) and cap.get(4) insist of cap.get(cv2.CAP_PROP_FRAME_WIDTH) and cap.get(cv2.CAP_PROP_FRAME_HEIGHT)"
   ]
  },
  {
   "cell_type": "code",
   "execution_count": 23,
   "id": "dd446c0c-52ac-4992-a297-4829190df00d",
   "metadata": {},
   "outputs": [],
   "source": [
    "while True:\n",
    "    ret, frame = cap.read()\n",
    "    if ret:\n",
    "        font = cv2.FONT_HERSHEY_COMPLEX_SMALL\n",
    "        text = 'Height: ' + str(frame.shape[0]) + ' Width: ' + str(frame.shape[1])\n",
    "        date_data = \"Date: \" + str(datetime.datetime.now())\n",
    "        frame = cv2.putText(frame, text, (10, 20), font, 1, (245, 237, 233), 1, cv2.LINE_AA)\n",
    "        frame = cv2.putText(frame, date_data, (20, 50), font, 1, (245, 237, 233), 1, cv2.LINE_AA)\n",
    "        cv2.rectangle(frame, (384, 10), (510, 128), (128, 0, 255), 8)\n",
    "        cv2.imshow('frame', frame)\n",
    "        if cv2.waitKey(30) & 0xFF == ord('q'):\n",
    "            break\n",
    "            \n",
    "cap.release()\n",
    "cv2.destroyAllWindows()"
   ]
  },
  {
   "cell_type": "code",
   "execution_count": null,
   "id": "7a678b50-7674-4f39-929b-9918ddf159a2",
   "metadata": {},
   "outputs": [],
   "source": []
  }
 ],
 "metadata": {
  "kernelspec": {
   "display_name": "Python 3 (ipykernel)",
   "language": "python",
   "name": "python3"
  },
  "language_info": {
   "codemirror_mode": {
    "name": "ipython",
    "version": 3
   },
   "file_extension": ".py",
   "mimetype": "text/x-python",
   "name": "python",
   "nbconvert_exporter": "python",
   "pygments_lexer": "ipython3",
   "version": "3.11.7"
  }
 },
 "nbformat": 4,
 "nbformat_minor": 5
}
