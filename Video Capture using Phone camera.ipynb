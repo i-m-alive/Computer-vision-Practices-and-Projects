{
 "cells": [
  {
   "cell_type": "code",
   "execution_count": 1,
   "id": "b8101a8c-ab61-47e7-a69c-e8ba971113f0",
   "metadata": {},
   "outputs": [],
   "source": [
    "import cv2"
   ]
  },
  {
   "cell_type": "markdown",
   "id": "ae92f1f9-b416-46f9-add9-8fafadf0c20a",
   "metadata": {},
   "source": [
    "# Capture using Phone camera"
   ]
  },
  {
   "cell_type": "code",
   "execution_count": 2,
   "id": "79edbb95-b129-4ec9-ad10-274bbbac709d",
   "metadata": {},
   "outputs": [
    {
     "name": "stdout",
     "output_type": "stream",
     "text": [
      "check== False\n"
     ]
    }
   ],
   "source": [
    "camera= \"http://192.168.1.6:8080/video\"\n",
    "cap=cv2.VideoCapture(0)\n",
    "cap.open(camera)\n",
    "print(\"check==\",cap.isOpened())\n",
    "\n",
    "\n",
    "fourcc = cv2.VideoWriter_fourcc(*\"XVID\") \n",
    "output = cv2.VideoWriter(\"D:\\\\output.mp4\",fourcc,20.0,(640,480),1)\n",
    "while(cap.isOpened()):\n",
    "    ret, frame = cap.read()   #here read the frame\n",
    "    \n",
    "    if ret==True:\n",
    "        frame=cv2.resize(frame,(640,480))\n",
    "        #frame  = cv2.cvtColor(frame,cv2.COLOR_BGR2GRAY)\n",
    "        #here flip is used to lip the video at recording time\n",
    "        #frame = cv2.flip(frame,-1)\n",
    "        output.write(frame)\n",
    "        \n",
    "        cv2.imshow(\"Coloured frame\",frame)\n",
    "        if cv2.waitKey(25) & 0xFF == ord('q'):   #press to exit\n",
    "            break\n",
    "    else:\n",
    "        break\n",
    "# Release everything if job is finished\n",
    "cap.release()\n",
    "output.release()\n",
    "cv2.destroyAllWindows()"
   ]
  },
  {
   "cell_type": "markdown",
   "id": "e251f969-fc19-4d43-a72d-12788cd9dd80",
   "metadata": {},
   "source": [
    "## Explaination\n",
    "### To use phone as your webcamera\n",
    "1. Mobile setup:\n",
    "   1. Install a *IP webcam* application form your playstore\n",
    "   2. Open the app and scroll down then clich on *start server*\n",
    "2. Browser Setup:\n",
    "   1. There will be link name something like IP4: \"http://192.168.1.6:8080/video\", enter this in the browser *phone and laptop should be connected the same wifi or network*\n",
    "   2. You will see a webpage will open and there we can see our phone camera and other vairous settings to control the behaviour of the phone camera.\n",
    "3. Notebook:\n",
    "   1. import Opencv-> **import cv2**\n",
    "   2. assigned the same link to camera object--> **camera=\"http://192.168.1.6:8080/video\"\"**\n",
    "   3. use *cap* object to capture the video using *VideoCatpture()* and pass (*0*)->**cap=cv2.VideoCapture(0)** as it will use the webcam but we are using phone as our webcam\n",
    "   4. So use open() to open the camera of the phone-->**cap.open(camera)**\n",
    "   5. **print(\"check==\",cap.isOpened())** to check the camera is open or not\n",
    "   6. **cv2.VideoWriter_fourcc(*\"XVID\")**:\n",
    "       1. This function creates a four-character code (4CC) used to specify the video codec.\n",
    "       2. It takes a string parameter representing the codec name. In this case, **\"XVID\"** represents the Xvid codec\n",
    "       3. The * before **\"XVID\"** is used to unpack the string into individual characters.\n",
    "    2. **cv2.VideoWriter(\"D:\\output.mp4\", fourcc, 20.0, (640, 480), 1)**:\n",
    "       1. This function initializes a VideoWriter object to write video frames to a file.\n",
    "       2. It takes several parameters:\n",
    "          1. **\"D:\\\\output.mp4\"**: This is the path of the output file where the video will be saved. In this case, it will be saved as output.avi in the C:\\ directory.\n",
    "          2. **fourcc**: This is the four-character code representing the video codec. It specifies the codec to be used for encoding the video.\n",
    "          3. **20.0**: This parameter specifies the frames per second (fps) of the output video. In this case, it's set to 20.0 fps.\n",
    "          4. **(640, 480)**: This is a tuple specifying the width and height of the video frame. In this case, the frame size is set to 640x480 pixels.\n",
    "          5. **1**: This parameter specifies whether the video is grayscale (0) or color (1). Here, 0 indicates grayscale, meaning the output video will be in grayscale.\n",
    "    7. **while(cap.isOpened()):\n",
    "            ret, frame = cap.read()   #here read the frame\n",
    "            if ret==True:\n",
    "                frame=cv2.resize(frame,(640,480))\n",
    "                #frame  = cv2.cvtColor(frame,cv2.COLOR_BGR2GRAY)\n",
    "                #here flip is used to lip the video at recording time\n",
    "                #frame = cv2.flip(frame,-1)\n",
    "                output.write(frame)\n",
    "                cv2.imshow(\"Coloured frame\",frame)\n",
    "                if cv2.waitKey(25) & 0xFF == ord('q'):   #press to exit\n",
    "                    break\n",
    "            else:\n",
    "                break**\n",
    "       8. **cap.release()\n",
    "          output.release()\n",
    "          cv2.destroyAllWindows()**"
   ]
  },
  {
   "cell_type": "code",
   "execution_count": null,
   "id": "304af8e0-11c4-4272-9779-4fb711dbc418",
   "metadata": {
    "jp-MarkdownHeadingCollapsed": true
   },
   "outputs": [],
   "source": []
  },
  {
   "cell_type": "code",
   "execution_count": null,
   "id": "8431318b-3b96-4205-a412-7762c9bcf4b5",
   "metadata": {},
   "outputs": [],
   "source": []
  },
  {
   "cell_type": "code",
   "execution_count": null,
   "id": "af56f40b-f014-4f62-b34e-3ea31be512c6",
   "metadata": {},
   "outputs": [],
   "source": []
  },
  {
   "cell_type": "code",
   "execution_count": null,
   "id": "68dc5970-8c48-4648-84fe-b2bc56d2a600",
   "metadata": {},
   "outputs": [],
   "source": []
  }
 ],
 "metadata": {
  "kernelspec": {
   "display_name": "Python 3 (ipykernel)",
   "language": "python",
   "name": "python3"
  },
  "language_info": {
   "codemirror_mode": {
    "name": "ipython",
    "version": 3
   },
   "file_extension": ".py",
   "mimetype": "text/x-python",
   "name": "python",
   "nbconvert_exporter": "python",
   "pygments_lexer": "ipython3",
   "version": "3.11.7"
  }
 },
 "nbformat": 4,
 "nbformat_minor": 5
}
