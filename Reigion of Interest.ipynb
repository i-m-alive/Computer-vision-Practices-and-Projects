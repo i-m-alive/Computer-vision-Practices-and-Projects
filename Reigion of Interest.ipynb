{
 "cells": [
  {
   "cell_type": "code",
   "execution_count": 1,
   "id": "fc13a3ce-b2d4-4458-bf7b-2e1e24c59177",
   "metadata": {},
   "outputs": [],
   "source": [
    "import cv2"
   ]
  },
  {
   "cell_type": "code",
   "execution_count": 4,
   "id": "81c40e6c-c06d-430f-af0c-a47168327254",
   "metadata": {},
   "outputs": [],
   "source": [
    "\n",
    "# Read image\n",
    "img = cv2.imread(r\"C:\\Users\\bhaka\\Desktop\\New folder\\roi_opr.jpg\")\n",
    "img = cv2.resize(img, (800, 800))\n",
    "\n",
    "# Now extract area of interest from an image\n",
    "roi = img[50:205, 320:440]\n",
    "\n",
    "# Putting roi into different pixel values in the same image\n",
    "img[50:205, 431:551] = roi\n",
    "img[50:205, 552:672] = roi\n",
    "img[50:205, 200:320] = roi\n",
    "img[50:205, 80:200] = roi\n",
    "\n",
    "# Changing y===\n",
    "img[400:555, 60:180] = roi\n",
    "\n",
    "cv2.imshow(\"Original Image\", img)\n",
    "\n",
    "# Read another image\n",
    "img1 = cv2.imread(r\"C:\\Users\\bhaka\\Desktop\\New folder\\ironman.jpg\")\n",
    "img1 = cv2.resize(img1, (900, 600))\n",
    "\n",
    "# Assign roi to a region in the second image\n",
    "img1[1:156, 560:680] = roi\n",
    "\n",
    "cv2.imshow(\"Ironman\", img1)\n",
    "cv2.waitKey(0)\n",
    "cv2.destroyAllWindows()"
   ]
  },
  {
   "cell_type": "code",
   "execution_count": 24,
   "id": "e0b8c4a3-9eba-425e-ad80-6e0345c40a4e",
   "metadata": {},
   "outputs": [
    {
     "data": {
      "text/plain": [
       "-1"
      ]
     },
     "execution_count": 24,
     "metadata": {},
     "output_type": "execute_result"
    }
   ],
   "source": []
  },
  {
   "cell_type": "code",
   "execution_count": null,
   "id": "c84fdc1e-714d-4dea-b691-e53ff3f0cbc6",
   "metadata": {},
   "outputs": [],
   "source": []
  }
 ],
 "metadata": {
  "kernelspec": {
   "display_name": "Python 3 (ipykernel)",
   "language": "python",
   "name": "python3"
  },
  "language_info": {
   "codemirror_mode": {
    "name": "ipython",
    "version": 3
   },
   "file_extension": ".py",
   "mimetype": "text/x-python",
   "name": "python",
   "nbconvert_exporter": "python",
   "pygments_lexer": "ipython3",
   "version": "3.11.7"
  }
 },
 "nbformat": 4,
 "nbformat_minor": 5
}
