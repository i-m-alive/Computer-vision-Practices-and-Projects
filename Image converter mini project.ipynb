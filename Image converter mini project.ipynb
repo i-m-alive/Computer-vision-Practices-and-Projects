{
 "cells": [
  {
   "cell_type": "code",
   "execution_count": 1,
   "id": "adb3279e-0330-41ef-9941-116b3926aafe",
   "metadata": {},
   "outputs": [],
   "source": [
    "import cv2"
   ]
  },
  {
   "cell_type": "code",
   "execution_count": 2,
   "id": "3f0e708b-097b-4ca4-bb25-4725e02e9696",
   "metadata": {},
   "outputs": [
    {
     "name": "stdin",
     "output_type": "stream",
     "text": [
      "Enter the path of the image that you want to modify: D:\\Babe\\IMG_20231024_190545.jpg\n"
     ]
    },
    {
     "name": "stdout",
     "output_type": "stream",
     "text": [
      "1. Grey Scale image \n",
      "2. Unchanged Image\n",
      "3. Flip horizontally \n",
      "4. Flip Vertically\n"
     ]
    },
    {
     "name": "stdin",
     "output_type": "stream",
     "text": [
      "Choose 1-4 that you want to perform:  1\n"
     ]
    }
   ],
   "source": [
    "path =input(\"Enter the path of the image that you want to modify:\")\n",
    "print(\"1. Grey Scale image \\n2. Unchanged Image\\n3. Flip horizontally \\n4. Flip Vertically\")\n",
    "n = int(input(\"Choose 1-4 that you want to perform: \"))\n",
    "if n == 1:\n",
    "    img = cv2.imread(path, 0)\n",
    "    img1 = cv2.resize(img, (560, 700))\n",
    "elif n == 2:\n",
    "    img = cv2.imread(path, -1)\n",
    "    img1 = cv2.resize(img, (560, 700))\n",
    "elif n == 3:\n",
    "    img = cv2.imread(path, 1)\n",
    "    img1 = cv2.resize(img, (560, 700))\n",
    "    img1 = cv2.flip(img1, -1)\n",
    "elif n == 4:\n",
    "    img = cv2.imread(path, 1)\n",
    "    img1 = cv2.resize(img, (560, 700))\n",
    "    img1 = cv2.flip(img1, 0)\n",
    "else:\n",
    "    print(\"You have entered a wrong option.\")\n",
    "\n",
    "\n",
    "cv2.imshow(\"converted image\", img1)\n",
    "k = cv2.waitKey(0) & 0xFF\n",
    "if k == ord(\"q\"):\n",
    "    cv2.destroyAllWindows()\n",
    "elif k == ord(\"s\"):\n",
    "    cv2.imwrite(\"D:\\\\ouput.png\", img1)  # it accepts name of image and data\n",
    "    cv2.destroyAllWindows()\n",
    "\n"
   ]
  },
  {
   "cell_type": "code",
   "execution_count": null,
   "id": "e32683b1-04e3-456a-a77a-5ff9b5736b97",
   "metadata": {},
   "outputs": [],
   "source": []
  }
 ],
 "metadata": {
  "kernelspec": {
   "display_name": "Python 3 (ipykernel)",
   "language": "python",
   "name": "python3"
  },
  "language_info": {
   "codemirror_mode": {
    "name": "ipython",
    "version": 3
   },
   "file_extension": ".py",
   "mimetype": "text/x-python",
   "name": "python",
   "nbconvert_exporter": "python",
   "pygments_lexer": "ipython3",
   "version": "3.11.7"
  }
 },
 "nbformat": 4,
 "nbformat_minor": 5
}
