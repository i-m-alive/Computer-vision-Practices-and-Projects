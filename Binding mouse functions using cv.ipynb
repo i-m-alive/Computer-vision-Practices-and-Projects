{
 "cells": [
  {
   "cell_type": "code",
   "execution_count": 1,
   "id": "453c78b6-2d76-47ba-914c-747bfdcaf2b0",
   "metadata": {},
   "outputs": [],
   "source": [
    "import cv2\n",
    "import numpy as np"
   ]
  },
  {
   "cell_type": "code",
   "execution_count": 3,
   "id": "2f099be2-901e-4d49-a17b-a78c09dfaea4",
   "metadata": {},
   "outputs": [],
   "source": [
    "def mouse_click(event,x,y,flags,param):\n",
    "    if event== cv2.EVENT_LBUTTONDBLCLK:\n",
    "        ## cv2.EVENT_LBUTTONDBLCLK: it will be activated when we will perfrom double click on left button\n",
    "        cv2.circle(img,(x,y),100,(125,0,255),5)\n",
    "    if event==cv2.EVENT_RBUTTONDBLCLK:\n",
    "        ## cv2.EVENT_RBUTTONDBLCLK: it will be activated when we will perfrom double click on left button\n",
    "        cv2.rectangle(img,(x,y),(x+100,y+75),(125,125,255),2)\n",
    "#def mouse_click() is a method that will perform task on the image when certain actions are perfomed using mouse\n",
    "## it take 4 arguments:1. events 2. x,y (cordinates) 3.flags 4. param\n",
    "### we dont need to pass the arguments the cv2.setMouseCallback() will automatically pass the parameter when certain actions are performed using mouse\n",
    "#### it takes two parameter:1. windows name 2.function i.e mouse_click\n",
    "\n",
    "\n",
    "cv2.namedWindow(winname=\"res\")\n",
    "# img=cv2.imread(\"path\",1)\n",
    "img=np.zeros((512,512,3),np.uint8) #black image \n",
    "cv2.setMouseCallback(\"res\",mouse_click)\n",
    "\n",
    "while True:\n",
    "    cv2.imshow(\"res\",img)\n",
    "    if cv2.waitKey(1) & 0xFF==27: #27 means escape key \n",
    "        break\n",
    "\n",
    "cv2.destroyAllWindows()\n"
   ]
  },
  {
   "cell_type": "markdown",
   "id": "18fd46d8-883a-4089-bf27-918b58ec690a",
   "metadata": {},
   "source": [
    "Here's a list of some commonly used mouse events in OpenCV:\n",
    "\n",
    "1. cv2.EVENT_MOUSEMOVE: Mouse movement event.\n",
    "2. cv2.EVENT_LBUTTONDOWN: Left mouse button down event.\n",
    "3. cv2.EVENT_RBUTTONDOWN: Right mouse button down event.\n",
    "4. cv2.EVENT_MBUTTONDOWN: Middle mouse button down event.\n",
    "5. cv2.EVENT_LBUTTONUP: Left mouse button up event.\n",
    "6. cv2.EVENT_RBUTTONUP: Right mouse button up event.\n",
    "7. cv2.EVENT_MBUTTONUP: Middle mouse button up event.\n",
    "8. cv2.EVENT_LBUTTONDBLCLK: Left mouse button double-click event.\n",
    "9. cv2.EVENT_RBUTTONDBLCLK: Right mouse button double-click event.\n",
    "10. cv2.EVENT_MBUTTONDBLCLK: Middle mouse button double-click event.\n",
    "11. cv2.EVENT_MOUSEWHEEL: Mouse wheel scroll event.\n",
    "12. cv2.EVENT_MOUSEHWHEEL: Horizontal mouse wheel scroll event."
   ]
  },
  {
   "cell_type": "markdown",
   "id": "e5d5a97e-6562-4016-94cc-350e185a0654",
   "metadata": {},
   "source": [
    "Here are some common action functions you can call after these events:\n",
    "\n",
    "1. **Display information**: You can create a function to display information based on the location where the double-click event occurred. For example, you can display pixel values, coordinates, or any other relevant information about the image.\n",
    "\n",
    "2. **Image manipulation**: You can define functions to manipulate the image based on the double-click event. For instance, you might implement functions to draw shapes, apply filters, crop regions, or perform any other image processing operation.\n",
    "\n",
    "3. **Object selection**: If you're working with object detection or segmentation tasks, you can create functions to select or annotate objects in the image when a double-click event occurs.\n",
    "\n",
    "4. **Interactive features**: You can implement interactive features such as zooming, panning, or rotating the image based on the double-click event.\n",
    "\n",
    "5. **Region of Interest (ROI) selection**: Double-click events can be used to define regions of interest (ROIs) within the image. You can create functions to extract or analyze these ROIs further.\n",
    "\n",
    "6. **GUI interaction**: If you have a graphical user interface (GUI) built using OpenCV, you can define functions to interact with GUI elements based on double-click events.\n",
    "\n",
    "These are just a few examples of action functions you can call after handling double-click events in OpenCV. The specific actions will depend on your application requirements and the functionality you want to implement. You can define custom functions to perform any desired action based on the detected events."
   ]
  },
  {
   "cell_type": "code",
   "execution_count": null,
   "id": "c8bc8c9b-dc39-405a-9786-3ef310110305",
   "metadata": {},
   "outputs": [],
   "source": []
  }
 ],
 "metadata": {
  "kernelspec": {
   "display_name": "Python 3 (ipykernel)",
   "language": "python",
   "name": "python3"
  },
  "language_info": {
   "codemirror_mode": {
    "name": "ipython",
    "version": 3
   },
   "file_extension": ".py",
   "mimetype": "text/x-python",
   "name": "python",
   "nbconvert_exporter": "python",
   "pygments_lexer": "ipython3",
   "version": "3.11.7"
  }
 },
 "nbformat": 4,
 "nbformat_minor": 5
}
